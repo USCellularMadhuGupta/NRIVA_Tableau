{
  "nbformat": 4,
  "nbformat_minor": 0,
  "metadata": {
    "colab": {
      "name": "Untitled0.ipynb",
      "provenance": [],
      "collapsed_sections": [],
      "authorship_tag": "ABX9TyNLc4cv34bNyc/kGQ7XdOKe",
      "include_colab_link": true
    },
    "kernelspec": {
      "name": "python3",
      "display_name": "Python 3"
    },
    "language_info": {
      "name": "python"
    }
  },
  "cells": [
    {
      "cell_type": "markdown",
      "metadata": {
        "id": "view-in-github",
        "colab_type": "text"
      },
      "source": [
        "<a href=\"https://colab.research.google.com/github/USCellularMadhuGupta/NRIVA_Tableau/blob/main/First.ipynb\" target=\"_parent\"><img src=\"https://colab.research.google.com/assets/colab-badge.svg\" alt=\"Open In Colab\"/></a>"
      ]
    },
    {
      "cell_type": "code",
      "execution_count": 3,
      "metadata": {
        "id": "4pEzNjxLidG1"
      },
      "outputs": [],
      "source": [
        "def square(number):\n",
        "    return number**2"
      ]
    },
    {
      "cell_type": "code",
      "source": [
        "square(10)"
      ],
      "metadata": {
        "colab": {
          "base_uri": "https://localhost:8080/"
        },
        "id": "JBSrmpNHkGx3",
        "outputId": "799d5689-4e01-4d21-b389-f4ddf8d27343"
      },
      "execution_count": 4,
      "outputs": [
        {
          "output_type": "execute_result",
          "data": {
            "text/plain": [
              "100"
            ]
          },
          "metadata": {},
          "execution_count": 4
        }
      ]
    },
    {
      "cell_type": "code",
      "source": [
        "def maxOfThree(value1, value2, value3):\n",
        "  max_value=value1\n",
        "  if(value2 > max_value):\n",
        "     max_value=value2\n",
        "  if(value3 > max_value):\n",
        "      max_value=value3\n",
        "  return max_value   "
      ],
      "metadata": {
        "id": "esZ7cR_MkZgA"
      },
      "execution_count": 6,
      "outputs": []
    },
    {
      "cell_type": "code",
      "source": [
        "maxOfThree(12,15,10)"
      ],
      "metadata": {
        "colab": {
          "base_uri": "https://localhost:8080/"
        },
        "id": "jctNjH8zlEvw",
        "outputId": "a05974a2-76f1-4888-c1d3-0d0765383270"
      },
      "execution_count": 7,
      "outputs": [
        {
          "output_type": "execute_result",
          "data": {
            "text/plain": [
              "15"
            ]
          },
          "metadata": {},
          "execution_count": 7
        }
      ]
    },
    {
      "cell_type": "code",
      "source": [
        "maxOfThree('amber','blue','orange')"
      ],
      "metadata": {
        "colab": {
          "base_uri": "https://localhost:8080/",
          "height": 35
        },
        "id": "qL1uny0ylKin",
        "outputId": "02e82a3b-1509-48e2-96d3-0488a9d54a8c"
      },
      "execution_count": 10,
      "outputs": [
        {
          "output_type": "execute_result",
          "data": {
            "application/vnd.google.colaboratory.intrinsic+json": {
              "type": "string"
            },
            "text/plain": [
              "'orange'"
            ]
          },
          "metadata": {},
          "execution_count": 10
        }
      ]
    },
    {
      "cell_type": "code",
      "source": [
        "import random\n",
        "for roll in range(10): \n",
        "  print(random.randrange(1,7), end=' ')"
      ],
      "metadata": {
        "colab": {
          "base_uri": "https://localhost:8080/"
        },
        "id": "GyGwaFJ8nKJs",
        "outputId": "d76c96c5-61bf-4bcf-a504-ff6f1859e5b8"
      },
      "execution_count": 25,
      "outputs": [
        {
          "output_type": "stream",
          "name": "stdout",
          "text": [
            "5 1 2 5 3 4 3 6 6 5 "
          ]
        }
      ]
    },
    {
      "cell_type": "code",
      "source": [
        "import random\n",
        "\n",
        "\n",
        "frequency1=0\n",
        "frequency2=0\n",
        "frequency3=0\n",
        "frequency4=0\n",
        "frequency5=0\n",
        "frequency6=0\n",
        "\n",
        "for roll in range(6_000_000):\n",
        "  face=random.randrange(1,7)\n",
        "\n",
        "  if face==1:\n",
        "    frequency1+=1\n",
        "  elif face==2:\n",
        "    frequency2+=1\n",
        "  elif face==3:\n",
        "    frequency3+=1\n",
        "  elif face==4:\n",
        "    frequency4+=1\n",
        "  elif face==5:\n",
        "    frequency5+=1\n",
        "  elif face==6:\n",
        "    frequency6+=1\n",
        "\n",
        "print(f'Face{\"Frequency\":>13}')\n",
        "print(f'{1:4}{frequency1:>13}')\n",
        "print(f'{2:4}{frequency2:>13}')\n",
        "print(f'{3:4}{frequency3:>13}')\n",
        "print(f'{4:4}{frequency4:>13}')\n",
        "print(f'{5:4}{frequency5:>13}')\n",
        "print(f'{6:4}{frequency6:>13}')\n"
      ],
      "metadata": {
        "colab": {
          "base_uri": "https://localhost:8080/"
        },
        "id": "35D4up-Loyu9",
        "outputId": "bd6998e6-21d6-48af-bf51-5eb009bdeb29"
      },
      "execution_count": 40,
      "outputs": [
        {
          "output_type": "stream",
          "name": "stdout",
          "text": [
            "Face    Frequency\n",
            "   1      1001509\n",
            "   2      1000003\n",
            "   3       999883\n",
            "   4       999642\n",
            "   5       998516\n",
            "   6      1000447\n"
          ]
        }
      ]
    },
    {
      "cell_type": "code",
      "source": [
        "import random\n",
        "\n",
        "def roll_dice():\n",
        "  dice1=random.randrange(1,7)\n",
        "  dice2=random.randrange(1,7)\n",
        "  return (dice1, dice2)\n",
        "\n",
        "def display_dice(dice):\n",
        "  dice1,dice2=dice\n",
        "  print(f'Player rolled {dice1}+{dice2}={sum(dice)}')  \n",
        "\n",
        "dice_values=roll_dice();\n",
        "display_dice(dice_values)\n",
        "\n",
        "sum_of_dice=sum(dice_values)\n",
        "\n",
        "if sum_of_dice in (7,11):\n",
        "  game_status='WON'\n",
        "elif sum_of_dice in (2,3,12):\n",
        "  game_status='LOST'\n",
        "else: \n",
        "  game_status='CONTINUE'\n",
        "  my_point=sum_of_dice\n",
        "  print('Point is',my_point)\n",
        "\n",
        "while game_status=='CONTINUE':\n",
        "  dice_values = roll_dice()\n",
        "  display_dice(dice_values)\n",
        "  sum_of_dice = sum(dice_values)\n",
        "\n",
        "  if sum_of_dice==my_point:\n",
        "    game_status='WON'\n",
        "  elif sum_of_dice==7:\n",
        "    game_status='LOST'\n",
        "\n",
        "if game_status=='WON':\n",
        "  print('Player wins')\n",
        "else:\n",
        "  print('Player loses')"
      ],
      "metadata": {
        "colab": {
          "base_uri": "https://localhost:8080/"
        },
        "id": "c987WQVDty4k",
        "outputId": "d0e2f069-4e71-41d0-a2e2-41a32bbad3e5"
      },
      "execution_count": 61,
      "outputs": [
        {
          "output_type": "stream",
          "name": "stdout",
          "text": [
            "Player rolled 4+1=5\n",
            "Point is 5\n",
            "Player rolled 2+2=4\n",
            "Player rolled 3+5=8\n",
            "Player rolled 4+6=10\n",
            "Player rolled 1+4=5\n",
            "Player wins\n"
          ]
        }
      ]
    }
  ]
}